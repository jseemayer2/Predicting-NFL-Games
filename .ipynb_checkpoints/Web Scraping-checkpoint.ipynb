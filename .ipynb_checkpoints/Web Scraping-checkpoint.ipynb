{
 "cells": [
  {
   "cell_type": "code",
   "execution_count": 1,
   "metadata": {},
   "outputs": [],
   "source": [
    "from bs4 import BeautifulSoup\n",
    "import requests\n",
    "import re\n",
    "\n",
    "import pandas as pd\n",
    "\n",
    "import pickle"
   ]
  },
  {
   "cell_type": "markdown",
   "metadata": {},
   "source": [
    "Let's collect game links to pages where we can scrape our data"
   ]
  },
  {
   "cell_type": "code",
   "execution_count": 24,
   "metadata": {},
   "outputs": [],
   "source": [
    "game_link_ends = []\n",
    "#1966 season\n",
    "weeks = range(1,19)\n",
    "for week in weeks:\n",
    "    url0 = 'https://www.pro-football-reference.com/years/1966/week_{}.htm'.format(week)\n",
    "    response0 = requests.get(url0)\n",
    "    page0 = response0.text\n",
    "    page0 = page0.replace(\"<!--\",\"\").replace(\"-->\",\"\")\n",
    "    soup0 = BeautifulSoup(page0)\n",
    "    for link in soup0.find_all(class_=\"right gamelink\"):\n",
    "        url1 = link.findNext()\n",
    "        game_link_ends0 = url1.get('href')  #.get() method and \n",
    "                                            #calling index by attr (url['href']) act the same!\n",
    "        game_link_ends.append(game_link_ends0.strip())\n",
    "#1967 season\n",
    "weeks = range(1,21)\n",
    "for week in weeks:\n",
    "    url0 = 'https://www.pro-football-reference.com/years/1967/week_{}.htm'.format(week)\n",
    "    response0 = requests.get(url0)\n",
    "    page0 = response0.text\n",
    "    page0 = page0.replace(\"<!--\",\"\").replace(\"-->\",\"\")\n",
    "    soup0 = BeautifulSoup(page0)\n",
    "    for link in soup0.find_all(class_=\"right gamelink\"):\n",
    "        url1 = link.findNext()\n",
    "        game_link_ends0 = url1.get('href')  #.get() method and \n",
    "                                            #calling index by attr (url['href']) act the same!\n",
    "        game_link_ends.append(game_link_ends0.strip())\n",
    "#1968 season\n",
    "weeks = range(1,19)\n",
    "for week in weeks:\n",
    "    url0 = 'https://www.pro-football-reference.com/years/1968/week_{}.htm'.format(week)\n",
    "    response0 = requests.get(url0)\n",
    "    page0 = response0.text\n",
    "    page0 = page0.replace(\"<!--\",\"\").replace(\"-->\",\"\")\n",
    "    soup0 = BeautifulSoup(page0)\n",
    "    for link in soup0.find_all(class_=\"right gamelink\"):\n",
    "        url1 = link.findNext()\n",
    "        game_link_ends0 = url1.get('href')  #.get() method and \n",
    "                                            #calling index by attr (url['href']) act the same!\n",
    "        game_link_ends.append(game_link_ends0.strip())\n",
    "#14 game seasons (1969-1977)\n",
    "years = range(1969,1978)\n",
    "weeks = range(1,18)\n",
    "for year in years:\n",
    "    for week in weeks:\n",
    "        url0 = 'https://www.pro-football-reference.com/years/{}/week_{}.htm'.format(year, week)\n",
    "        response0 = requests.get(url0)\n",
    "        page0 = response0.text\n",
    "        page0 = page0.replace(\"<!--\",\"\").replace(\"-->\",\"\")\n",
    "        soup0 = BeautifulSoup(page0)\n",
    "        for link in soup0.find_all(class_=\"right gamelink\"):\n",
    "            url1 = link.findNext()\n",
    "            game_link_ends0 = url1.get('href')  #.get() method and \n",
    "                                                #calling index by attr (url['href']) act the same!\n",
    "            game_link_ends.append(game_link_ends0.strip())\n",
    "#16 game seasons pre-1982 player strike (1978-1981)\n",
    "years = range(1978,1982)\n",
    "weeks = range(1,21)\n",
    "for year in years:\n",
    "    for week in weeks:\n",
    "        url0 = 'https://www.pro-football-reference.com/years/{}/week_{}.htm'.format(year, week)\n",
    "        response0 = requests.get(url0)\n",
    "        page0 = response0.text\n",
    "        page0 = page0.replace(\"<!--\",\"\").replace(\"-->\",\"\")\n",
    "        soup0 = BeautifulSoup(page0)\n",
    "        for link in soup0.find_all(class_=\"right gamelink\"):\n",
    "            url1 = link.findNext()\n",
    "            game_link_ends0 = url1.get('href')  #.get() method and \n",
    "                                                #calling index by attr (url['href']) act the same!\n",
    "            game_link_ends.append(game_link_ends0.strip())\n",
    "#1982 season (shortened by player strike)\n",
    "weeks = [1,2,11,12,13,14,15,16,17,18,19,20]\n",
    "for week in weeks:\n",
    "    url0 = 'https://www.pro-football-reference.com/years/1982/week_{}.htm'.format(week)\n",
    "    response0 = requests.get(url0)\n",
    "    page0 = response0.text\n",
    "    page0 = page0.replace(\"<!--\",\"\").replace(\"-->\",\"\")\n",
    "    soup0 = BeautifulSoup(page0)\n",
    "    for link in soup0.find_all(class_=\"right gamelink\"):\n",
    "        url1 = link.findNext()\n",
    "        game_link_ends0 = url1.get('href')  #.get() method and \n",
    "                                            #calling index by attr (url['href']) act the same!\n",
    "        game_link_ends.append(game_link_ends0.strip())\n",
    "#16 game seasons post-1982 player strike (1983-1989)\n",
    "years = range(1983,1990)\n",
    "weeks = range(1,21)\n",
    "for year in years:\n",
    "    for week in weeks:\n",
    "        url0 = 'https://www.pro-football-reference.com/years/{}/week_{}.htm'.format(year, week)\n",
    "        response0 = requests.get(url0)\n",
    "        page0 = response0.text\n",
    "        page0 = page0.replace(\"<!--\",\"\").replace(\"-->\",\"\")\n",
    "        soup0 = BeautifulSoup(page0)\n",
    "        for link in soup0.find_all(class_=\"right gamelink\"):\n",
    "            url1 = link.findNext()\n",
    "            game_link_ends0 = url1.get('href')  #.get() method and \n",
    "                                                #calling index by attr (url['href']) act the same!\n",
    "            game_link_ends.append(game_link_ends0.strip())\n",
    "#Modern schedule format (16 game + bye week)\n",
    "years = range(1990, 2021)\n",
    "weeks = range(1,22)\n",
    "for year in years:\n",
    "    for week in weeks:\n",
    "        url0 = 'https://www.pro-football-reference.com/years/{}/week_{}.htm'.format(year, week)\n",
    "        response0 = requests.get(url0)\n",
    "        page0 = response0.text\n",
    "        page0 = page0.replace(\"<!--\",\"\").replace(\"-->\",\"\")\n",
    "        soup0 = BeautifulSoup(page0)\n",
    "        for link in soup0.find_all(class_=\"right gamelink\"):\n",
    "            url1 = link.findNext()\n",
    "            game_link_ends0 = url1.get('href')  #.get() method and \n",
    "                                                #calling index by attr (url['href']) act the same!\n",
    "            game_link_ends.append(game_link_ends0.strip())"
   ]
  },
  {
   "cell_type": "code",
   "execution_count": 25,
   "metadata": {},
   "outputs": [
    {
     "data": {
      "text/plain": [
       "12788"
      ]
     },
     "execution_count": 25,
     "metadata": {},
     "output_type": "execute_result"
    }
   ],
   "source": [
    "len(game_link_ends)"
   ]
  },
  {
   "cell_type": "markdown",
   "metadata": {},
   "source": [
    "Get to the actual game pages where we can extract data we want."
   ]
  },
  {
   "cell_type": "code",
   "execution_count": 26,
   "metadata": {},
   "outputs": [],
   "source": [
    "url2 = 'https://www.pro-football-reference.com'\n",
    "url_list = []\n",
    "for game_link in game_link_ends:\n",
    "    url = ''.join([url2, game_link])\n",
    "    url_list.append(url)"
   ]
  },
  {
   "cell_type": "code",
   "execution_count": 27,
   "metadata": {},
   "outputs": [
    {
     "name": "stdout",
     "output_type": "stream",
     "text": [
      "12788 12788\n"
     ]
    }
   ],
   "source": [
    "#Sanity checks to make sure we get all the boxscore links & subsequent pages (12989 in elo_csv)\n",
    "#print(*url_list, sep='\\n')\n",
    "print(len(url_list), len(game_link_ends))"
   ]
  },
  {
   "cell_type": "code",
   "execution_count": 30,
   "metadata": {},
   "outputs": [
    {
     "data": {
      "text/plain": [
       "'/boxscores/196609100gnb.htm'"
      ]
     },
     "execution_count": 30,
     "metadata": {},
     "output_type": "execute_result"
    }
   ],
   "source": [
    "game_link_ends[0]"
   ]
  },
  {
   "cell_type": "markdown",
   "metadata": {},
   "source": [
    "Scrape our data!"
   ]
  },
  {
   "cell_type": "code",
   "execution_count": null,
   "metadata": {},
   "outputs": [],
   "source": [
    "def game_stat_dict(url):\n",
    "    '''\n",
    "    From Pro-Football-Reference link stub, request gamepage, parse with BeautifulSoup, and\n",
    "    collect \n",
    "        - game info (possible target application)\n",
    "        - traditional stats (features)\n",
    "        - efficiency stats (features)\n",
    "    Return total & stats as a dictionary.\n",
    "    ''' \n",
    "    game_dict={}\n",
    "    \n",
    "    game_dict['game_id'] = url[47:59]\n",
    "    \n",
    "    response = requests.get(url)\n",
    "    page = response.text\n",
    "    page = page.replace(\"<!--\",\"\").replace(\"-->\",\"\")\n",
    "    soup = BeautifulSoup(page, 'html.parser')\n",
    "    \n",
    "    "
   ]
  },
  {
   "cell_type": "code",
   "execution_count": null,
   "metadata": {},
   "outputs": [],
   "source": []
  },
  {
   "cell_type": "code",
   "execution_count": null,
   "metadata": {},
   "outputs": [],
   "source": []
  },
  {
   "cell_type": "code",
   "execution_count": null,
   "metadata": {},
   "outputs": [],
   "source": []
  },
  {
   "cell_type": "code",
   "execution_count": null,
   "metadata": {},
   "outputs": [],
   "source": []
  },
  {
   "cell_type": "code",
   "execution_count": null,
   "metadata": {},
   "outputs": [],
   "source": []
  },
  {
   "cell_type": "markdown",
   "metadata": {},
   "source": [
    "## Scratch Work"
   ]
  },
  {
   "cell_type": "markdown",
   "metadata": {},
   "source": [
    "Getting box scores for the different season lengths and schedule formats."
   ]
  },
  {
   "cell_type": "code",
   "execution_count": 2,
   "metadata": {
    "collapsed": true
   },
   "outputs": [
    {
     "name": "stdout",
     "output_type": "stream",
     "text": [
      "https://www.pro-football-reference.com/years/1966/week_1.htm\n",
      "https://www.pro-football-reference.com/years/1966/week_2.htm\n",
      "https://www.pro-football-reference.com/years/1966/week_3.htm\n",
      "https://www.pro-football-reference.com/years/1966/week_4.htm\n",
      "https://www.pro-football-reference.com/years/1966/week_5.htm\n",
      "https://www.pro-football-reference.com/years/1966/week_6.htm\n",
      "https://www.pro-football-reference.com/years/1966/week_7.htm\n",
      "https://www.pro-football-reference.com/years/1966/week_8.htm\n",
      "https://www.pro-football-reference.com/years/1966/week_9.htm\n",
      "https://www.pro-football-reference.com/years/1966/week_10.htm\n",
      "https://www.pro-football-reference.com/years/1966/week_11.htm\n",
      "https://www.pro-football-reference.com/years/1966/week_12.htm\n",
      "https://www.pro-football-reference.com/years/1966/week_13.htm\n",
      "https://www.pro-football-reference.com/years/1966/week_14.htm\n",
      "https://www.pro-football-reference.com/years/1966/week_15.htm\n",
      "https://www.pro-football-reference.com/years/1966/week_16.htm\n",
      "https://www.pro-football-reference.com/years/1966/week_17.htm\n",
      "https://www.pro-football-reference.com/years/1966/week_18.htm\n"
     ]
    }
   ],
   "source": [
    "game_link_ends1 = []\n",
    "#1966 season\n",
    "weeks = range(1,19)\n",
    "for week in weeks:\n",
    "    url0 = 'https://www.pro-football-reference.com/years/1966/week_{}.htm'.format(week)\n",
    "    response0 = requests.get(url0)\n",
    "    page0 = response0.text\n",
    "    page0 = page0.replace(\"<!--\",\"\").replace(\"-->\",\"\")\n",
    "    soup0 = BeautifulSoup(page0)\n",
    "    for link in soup0.find_all(class_=\"right gamelink\"):\n",
    "        url1 = link.findNext()\n",
    "        game_link_ends0 = url1.get('href')  #.get() method and \n",
    "                                            #calling index by attr (url['href']) act the same!\n",
    "        game_link_ends1.append(game_link_ends0.strip())"
   ]
  },
  {
   "cell_type": "code",
   "execution_count": 4,
   "metadata": {},
   "outputs": [
    {
     "data": {
      "text/plain": [
       "107"
      ]
     },
     "execution_count": 4,
     "metadata": {},
     "output_type": "execute_result"
    }
   ],
   "source": [
    "len(game_link_ends1)"
   ]
  },
  {
   "cell_type": "code",
   "execution_count": 5,
   "metadata": {
    "collapsed": true
   },
   "outputs": [
    {
     "name": "stdout",
     "output_type": "stream",
     "text": [
      "https://www.pro-football-reference.com/years/1967/week_1.htm\n",
      "https://www.pro-football-reference.com/years/1967/week_2.htm\n",
      "https://www.pro-football-reference.com/years/1967/week_3.htm\n",
      "https://www.pro-football-reference.com/years/1967/week_4.htm\n",
      "https://www.pro-football-reference.com/years/1967/week_5.htm\n",
      "https://www.pro-football-reference.com/years/1967/week_6.htm\n",
      "https://www.pro-football-reference.com/years/1967/week_7.htm\n",
      "https://www.pro-football-reference.com/years/1967/week_8.htm\n",
      "https://www.pro-football-reference.com/years/1967/week_9.htm\n",
      "https://www.pro-football-reference.com/years/1967/week_10.htm\n",
      "https://www.pro-football-reference.com/years/1967/week_11.htm\n",
      "https://www.pro-football-reference.com/years/1967/week_12.htm\n",
      "https://www.pro-football-reference.com/years/1967/week_13.htm\n",
      "https://www.pro-football-reference.com/years/1967/week_14.htm\n",
      "https://www.pro-football-reference.com/years/1967/week_15.htm\n",
      "https://www.pro-football-reference.com/years/1967/week_16.htm\n",
      "https://www.pro-football-reference.com/years/1967/week_17.htm\n",
      "https://www.pro-football-reference.com/years/1967/week_18.htm\n",
      "https://www.pro-football-reference.com/years/1967/week_19.htm\n",
      "https://www.pro-football-reference.com/years/1967/week_20.htm\n"
     ]
    }
   ],
   "source": [
    "game_link_ends2 = []\n",
    "#1967 season\n",
    "weeks = range(1,21)\n",
    "for week in weeks:\n",
    "    url0 = 'https://www.pro-football-reference.com/years/1967/week_{}.htm'.format(week)\n",
    "    response0 = requests.get(url0)\n",
    "    page0 = response0.text\n",
    "    page0 = page0.replace(\"<!--\",\"\").replace(\"-->\",\"\")\n",
    "    soup0 = BeautifulSoup(page0)\n",
    "    for link in soup0.find_all(class_=\"right gamelink\"):\n",
    "        url1 = link.findNext()\n",
    "        game_link_ends0 = url1.get('href')  #.get() method and \n",
    "                                            #calling index by attr (url['href']) act the same!\n",
    "        game_link_ends2.append(game_link_ends0.strip())"
   ]
  },
  {
   "cell_type": "code",
   "execution_count": 7,
   "metadata": {},
   "outputs": [
    {
     "data": {
      "text/plain": [
       "116"
      ]
     },
     "execution_count": 7,
     "metadata": {},
     "output_type": "execute_result"
    }
   ],
   "source": [
    "len(game_link_ends2)"
   ]
  },
  {
   "cell_type": "code",
   "execution_count": 8,
   "metadata": {},
   "outputs": [
    {
     "name": "stdout",
     "output_type": "stream",
     "text": [
      "https://www.pro-football-reference.com/years/1968/week_1.htm\n",
      "https://www.pro-football-reference.com/years/1968/week_2.htm\n",
      "https://www.pro-football-reference.com/years/1968/week_3.htm\n",
      "https://www.pro-football-reference.com/years/1968/week_4.htm\n",
      "https://www.pro-football-reference.com/years/1968/week_5.htm\n",
      "https://www.pro-football-reference.com/years/1968/week_6.htm\n",
      "https://www.pro-football-reference.com/years/1968/week_7.htm\n",
      "https://www.pro-football-reference.com/years/1968/week_8.htm\n",
      "https://www.pro-football-reference.com/years/1968/week_9.htm\n",
      "https://www.pro-football-reference.com/years/1968/week_10.htm\n",
      "https://www.pro-football-reference.com/years/1968/week_11.htm\n",
      "https://www.pro-football-reference.com/years/1968/week_12.htm\n",
      "https://www.pro-football-reference.com/years/1968/week_13.htm\n",
      "https://www.pro-football-reference.com/years/1968/week_14.htm\n",
      "https://www.pro-football-reference.com/years/1968/week_15.htm\n",
      "https://www.pro-football-reference.com/years/1968/week_16.htm\n",
      "https://www.pro-football-reference.com/years/1968/week_17.htm\n",
      "https://www.pro-football-reference.com/years/1968/week_18.htm\n"
     ]
    }
   ],
   "source": [
    "game_link_ends3 = []\n",
    "#1968 season\n",
    "weeks = range(1,19)\n",
    "for week in weeks:\n",
    "    url0 = 'https://www.pro-football-reference.com/years/1968/week_{}.htm'.format(week)\n",
    "    response0 = requests.get(url0)\n",
    "    page0 = response0.text\n",
    "    page0 = page0.replace(\"<!--\",\"\").replace(\"-->\",\"\")\n",
    "    soup0 = BeautifulSoup(page0)\n",
    "    for link in soup0.find_all(class_=\"right gamelink\"):\n",
    "        url1 = link.findNext()\n",
    "        game_link_ends0 = url1.get('href')  #.get() method and \n",
    "                                            #calling index by attr (url['href']) act the same!\n",
    "        game_link_ends3.append(game_link_ends0.strip())"
   ]
  },
  {
   "cell_type": "code",
   "execution_count": 9,
   "metadata": {},
   "outputs": [
    {
     "data": {
      "text/plain": [
       "116"
      ]
     },
     "execution_count": 9,
     "metadata": {},
     "output_type": "execute_result"
    }
   ],
   "source": [
    "len(game_link_ends3)"
   ]
  },
  {
   "cell_type": "code",
   "execution_count": 11,
   "metadata": {},
   "outputs": [],
   "source": [
    "game_link_ends4 = []\n",
    "#14 game seasons (1969-1977)\n",
    "years = range(1969,1978)\n",
    "weeks = range(1,18)\n",
    "for year in years:\n",
    "    for week in weeks:\n",
    "        url0 = 'https://www.pro-football-reference.com/years/{}/week_{}.htm'.format(year, week)\n",
    "        response0 = requests.get(url0)\n",
    "        page0 = response0.text\n",
    "        page0 = page0.replace(\"<!--\",\"\").replace(\"-->\",\"\")\n",
    "        soup0 = BeautifulSoup(page0)\n",
    "        for link in soup0.find_all(class_=\"right gamelink\"):\n",
    "            url1 = link.findNext()\n",
    "            game_link_ends0 = url1.get('href')  #.get() method and \n",
    "                                                #calling index by attr (url['href']) act the same!\n",
    "            game_link_ends4.append(game_link_ends0.strip())"
   ]
  },
  {
   "cell_type": "code",
   "execution_count": 13,
   "metadata": {},
   "outputs": [
    {
     "data": {
      "text/plain": [
       "1728"
      ]
     },
     "execution_count": 13,
     "metadata": {},
     "output_type": "execute_result"
    }
   ],
   "source": [
    "len(game_link_ends4)"
   ]
  },
  {
   "cell_type": "code",
   "execution_count": 15,
   "metadata": {},
   "outputs": [],
   "source": [
    "game_link_ends5 = []\n",
    "#16 game seasons pre- 1982 player strike (1978-1981)\n",
    "years = range(1978,1982)\n",
    "weeks = range(1,21)\n",
    "for year in years:\n",
    "    for week in weeks:\n",
    "        url0 = 'https://www.pro-football-reference.com/years/{}/week_{}.htm'.format(year, week)\n",
    "        response0 = requests.get(url0)\n",
    "        page0 = response0.text\n",
    "        page0 = page0.replace(\"<!--\",\"\").replace(\"-->\",\"\")\n",
    "        soup0 = BeautifulSoup(page0)\n",
    "        for link in soup0.find_all(class_=\"right gamelink\"):\n",
    "            url1 = link.findNext()\n",
    "            game_link_ends0 = url1.get('href')  #.get() method and \n",
    "                                                #calling index by attr (url['href']) act the same!\n",
    "            game_link_ends5.append(game_link_ends0.strip())"
   ]
  },
  {
   "cell_type": "code",
   "execution_count": 16,
   "metadata": {},
   "outputs": [
    {
     "data": {
      "text/plain": [
       "932"
      ]
     },
     "execution_count": 16,
     "metadata": {},
     "output_type": "execute_result"
    }
   ],
   "source": [
    "len(game_link_ends5)"
   ]
  },
  {
   "cell_type": "code",
   "execution_count": 17,
   "metadata": {
    "collapsed": true
   },
   "outputs": [
    {
     "name": "stdout",
     "output_type": "stream",
     "text": [
      "https://www.pro-football-reference.com/years/1982/week_1.htm\n",
      "https://www.pro-football-reference.com/years/1982/week_2.htm\n",
      "https://www.pro-football-reference.com/years/1982/week_11.htm\n",
      "https://www.pro-football-reference.com/years/1982/week_12.htm\n",
      "https://www.pro-football-reference.com/years/1982/week_13.htm\n",
      "https://www.pro-football-reference.com/years/1982/week_14.htm\n",
      "https://www.pro-football-reference.com/years/1982/week_15.htm\n",
      "https://www.pro-football-reference.com/years/1982/week_16.htm\n",
      "https://www.pro-football-reference.com/years/1982/week_17.htm\n",
      "https://www.pro-football-reference.com/years/1982/week_18.htm\n",
      "https://www.pro-football-reference.com/years/1982/week_19.htm\n",
      "https://www.pro-football-reference.com/years/1982/week_20.htm\n"
     ]
    }
   ],
   "source": [
    "game_link_ends6 = []\n",
    "#1982 season (shortened by player strike)\n",
    "weeks = [1,2,11,12,13,14,15,16,17,18,19,20]\n",
    "for week in weeks:\n",
    "    url0 = 'https://www.pro-football-reference.com/years/1982/week_{}.htm'.format(week)\n",
    "    response0 = requests.get(url0)\n",
    "    page0 = response0.text\n",
    "    page0 = page0.replace(\"<!--\",\"\").replace(\"-->\",\"\")\n",
    "    soup0 = BeautifulSoup(page0)\n",
    "    for link in soup0.find_all(class_=\"right gamelink\"):\n",
    "        url1 = link.findNext()\n",
    "        game_link_ends0 = url1.get('href')  #.get() method and \n",
    "                                            #calling index by attr (url['href']) act the same!\n",
    "        game_link_ends6.append(game_link_ends0.strip())"
   ]
  },
  {
   "cell_type": "code",
   "execution_count": 18,
   "metadata": {},
   "outputs": [
    {
     "data": {
      "text/plain": [
       "141"
      ]
     },
     "execution_count": 18,
     "metadata": {},
     "output_type": "execute_result"
    }
   ],
   "source": [
    "len(game_link_ends6)"
   ]
  },
  {
   "cell_type": "code",
   "execution_count": 21,
   "metadata": {},
   "outputs": [],
   "source": [
    "game_link_ends7 = []\n",
    "#16 game seasons post-1982 player strike (1983-1989)\n",
    "years = range(1983,1990)\n",
    "weeks = range(1,21)\n",
    "for year in years:\n",
    "    for week in weeks:\n",
    "        url0 = 'https://www.pro-football-reference.com/years/{}/week_{}.htm'.format(year, week)\n",
    "        response0 = requests.get(url0)\n",
    "        page0 = response0.text\n",
    "        page0 = page0.replace(\"<!--\",\"\").replace(\"-->\",\"\")\n",
    "        soup0 = BeautifulSoup(page0)\n",
    "        for link in soup0.find_all(class_=\"right gamelink\"):\n",
    "            url1 = link.findNext()\n",
    "            game_link_ends0 = url1.get('href')  #.get() method and \n",
    "                                                #calling index by attr (url['href']) act the same!\n",
    "            game_link_ends7.append(game_link_ends0.strip())"
   ]
  },
  {
   "cell_type": "code",
   "execution_count": 22,
   "metadata": {},
   "outputs": [
    {
     "data": {
      "text/plain": [
       "1617"
      ]
     },
     "execution_count": 22,
     "metadata": {},
     "output_type": "execute_result"
    }
   ],
   "source": [
    "len(game_link_ends7)"
   ]
  },
  {
   "cell_type": "code",
   "execution_count": null,
   "metadata": {},
   "outputs": [],
   "source": []
  }
 ],
 "metadata": {
  "kernelspec": {
   "display_name": "Python [conda env:metis] *",
   "language": "python",
   "name": "conda-env-metis-py"
  },
  "language_info": {
   "codemirror_mode": {
    "name": "ipython",
    "version": 3
   },
   "file_extension": ".py",
   "mimetype": "text/x-python",
   "name": "python",
   "nbconvert_exporter": "python",
   "pygments_lexer": "ipython3",
   "version": "3.8.6"
  }
 },
 "nbformat": 4,
 "nbformat_minor": 4
}
